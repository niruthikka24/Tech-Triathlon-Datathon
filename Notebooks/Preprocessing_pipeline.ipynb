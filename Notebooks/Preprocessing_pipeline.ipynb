{
  "nbformat": 4,
  "nbformat_minor": 0,
  "metadata": {
    "colab": {
      "provenance": []
    },
    "kernelspec": {
      "name": "python3",
      "display_name": "Python 3"
    },
    "language_info": {
      "name": "python"
    }
  },
  "cells": [
    {
      "cell_type": "code",
      "source": [
        "import imutils\n",
        "import os\n",
        "import cv2"
      ],
      "metadata": {
        "id": "R34C3YTVblNJ"
      },
      "execution_count": null,
      "outputs": []
    },
    {
      "cell_type": "code",
      "source": [
        "from google.colab import drive\n",
        "drive.mount('/content/drive')"
      ],
      "metadata": {
        "colab": {
          "base_uri": "https://localhost:8080/"
        },
        "id": "VcchPVLW2ZSm",
        "outputId": "11a1e3b9-f837-427a-e2e3-2912be04f8d5"
      },
      "execution_count": null,
      "outputs": [
        {
          "output_type": "stream",
          "name": "stdout",
          "text": [
            "Mounted at /content/drive\n"
          ]
        }
      ]
    },
    {
      "cell_type": "code",
      "source": [
        "def crop_imgs(set_name, add_pixels_value=0):\n",
        "\n",
        "        gray = cv2.cvtColor(img, cv2.COLOR_BGR2GRAY)\n",
        "        gray = cv2.GaussianBlur(gray, (5, 5), 0)\n",
        "\n",
        "        # threshold the image, then perform a series of erosions +\n",
        "        # dilations to remove any small regions of noise\n",
        "        thresh = cv2.threshold(gray, 45, 255, cv2.THRESH_BINARY)[1]\n",
        "        thresh = cv2.erode(thresh, None, iterations=2)\n",
        "        thresh = cv2.dilate(thresh, None, iterations=2)\n",
        "\n",
        "        # find contours in thresholded image, then grab the largest one\n",
        "        cnts = cv2.findContours(thresh.copy(), cv2.RETR_EXTERNAL, cv2.CHAIN_APPROX_SIMPLE)\n",
        "        cnts = imutils.grab_contours(cnts)\n",
        "        c = max(cnts, key=cv2.contourArea)\n",
        "\n",
        "        # find the extreme points\n",
        "        extLeft = tuple(c[c[:, :, 0].argmin()][0])\n",
        "        extRight = tuple(c[c[:, :, 0].argmax()][0])\n",
        "        extTop = tuple(c[c[:, :, 1].argmin()][0])\n",
        "        extBot = tuple(c[c[:, :, 1].argmax()][0])\n",
        "\n",
        "        ADD_PIXELS = add_pixels_value\n",
        "        new_img = img[extTop[1]-ADD_PIXELS:extBot[1]+ADD_PIXELS, extLeft[0]-ADD_PIXELS:extRight[0]+ADD_PIXELS].copy()\n",
        "\n",
        "        return new_img"
      ],
      "metadata": {
        "id": "t4SfAzAMaHyU"
      },
      "execution_count": null,
      "outputs": []
    },
    {
      "cell_type": "code",
      "source": [
        "folder_path='/content/drive/MyDrive/divided_datathon_dataset/train/category1_tumor'\n",
        "output_path = '/content/drive/MyDrive/divided_datathon_dataset_pre/train/category1_tumor/'\n",
        "\n",
        "image_files = [f for f in os.listdir(folder_path) if f.endswith(('.jpg'))]\n",
        "\n",
        "for i in image_files:\n",
        "  img=cv2.imread('/content/drive/MyDrive/divided_datathon_dataset/train/category1_tumor/'+i)\n",
        "  out_img=crop_imgs(img)\n",
        "  cv2.imwrite(output_path+i, out_img)"
      ],
      "metadata": {
        "id": "X9abywOx2taJ"
      },
      "execution_count": null,
      "outputs": []
    },
    {
      "cell_type": "code",
      "source": [
        "folder_path='/content/drive/MyDrive/divided_datathon_dataset/train/category2_tumor'\n",
        "output_path = '/content/drive/MyDrive/divided_datathon_dataset_pre/train/category2_tumor/'\n",
        "\n",
        "image_files = [f for f in os.listdir(folder_path) if f.endswith(('.jpg'))]\n",
        "\n",
        "for i in image_files:\n",
        "  img=cv2.imread('/content/drive/MyDrive/divided_datathon_dataset/train/category2_tumor/'+i)\n",
        "  out_img=crop_imgs(img)\n",
        "  cv2.imwrite(output_path+i, out_img)"
      ],
      "metadata": {
        "id": "LIH_CZMT0cRn"
      },
      "execution_count": null,
      "outputs": []
    },
    {
      "cell_type": "code",
      "source": [
        "folder_path='/content/drive/MyDrive/divided_datathon_dataset/train/category3_tumor'\n",
        "output_path = '/content/drive/MyDrive/divided_datathon_dataset_pre/train/category3_tumor/'\n",
        "\n",
        "image_files = [f for f in os.listdir(folder_path) if f.endswith(('.jpg'))]\n",
        "\n",
        "for i in image_files:\n",
        "  img=cv2.imread('/content/drive/MyDrive/divided_datathon_dataset/train/category3_tumor/'+i)\n",
        "  out_img=crop_imgs(img)\n",
        "  cv2.imwrite(output_path+i, out_img)\n"
      ],
      "metadata": {
        "id": "tLlpn4Aj0mw3"
      },
      "execution_count": null,
      "outputs": []
    },
    {
      "cell_type": "code",
      "source": [
        "folder_path='/content/drive/MyDrive/divided_datathon_dataset/train/no_tumor'\n",
        "output_path = '/content/drive/MyDrive/divided_datathon_dataset_pre/train/no_tumor/'\n",
        "\n",
        "image_files = [f for f in os.listdir(folder_path) if f.endswith(('.jpg'))]\n",
        "\n",
        "for i in image_files:\n",
        "  img=cv2.imread('/content/drive/MyDrive/divided_datathon_dataset/train/no_tumor/'+i)\n",
        "  out_img=crop_imgs(img)\n",
        "  cv2.imwrite(output_path+i, out_img)"
      ],
      "metadata": {
        "id": "0HFdCBpS0mw4"
      },
      "execution_count": null,
      "outputs": []
    },
    {
      "cell_type": "code",
      "source": [
        "folder_path='/content/drive/MyDrive/divided_datathon_dataset/val/category1_tumor'\n",
        "output_path = '/content/drive/MyDrive/divided_datathon_dataset_pre/val/category1_tumor/'\n",
        "\n",
        "image_files = [f for f in os.listdir(folder_path) if f.endswith(('.jpg'))]\n",
        "\n",
        "for i in image_files:\n",
        "  img=cv2.imread('/content/drive/MyDrive/divided_datathon_dataset/val/category1_tumor/'+i)\n",
        "  out_img=crop_imgs(img)\n",
        "  cv2.imwrite(output_path+i, out_img)\n"
      ],
      "metadata": {
        "id": "4FcVkefh0md4"
      },
      "execution_count": null,
      "outputs": []
    },
    {
      "cell_type": "code",
      "source": [
        "folder_path='/content/drive/MyDrive/divided_datathon_dataset/val/category2_tumor'\n",
        "output_path = '/content/drive/MyDrive/divided_datathon_dataset_pre/val/category2_tumor/'\n",
        "\n",
        "image_files = [f for f in os.listdir(folder_path) if f.endswith(('.jpg'))]\n",
        "\n",
        "for i in image_files:\n",
        "  img=cv2.imread('/content/drive/MyDrive/divided_datathon_dataset/val/category2_tumor/'+i)\n",
        "  out_img=crop_imgs(img)\n",
        "  cv2.imwrite(output_path+i, out_img)"
      ],
      "metadata": {
        "id": "o-By9JXV0md5"
      },
      "execution_count": null,
      "outputs": []
    },
    {
      "cell_type": "code",
      "source": [
        "folder_path='/content/drive/MyDrive/divided_datathon_dataset/val/category3_tumor'\n",
        "output_path = '/content/drive/MyDrive/divided_datathon_dataset_pre/val/category3_tumor/'\n",
        "\n",
        "image_files = [f for f in os.listdir(folder_path) if f.endswith(('.jpg'))]\n",
        "\n",
        "for i in image_files:\n",
        "  img=cv2.imread('/content/drive/MyDrive/divided_datathon_dataset/val/category3_tumor/'+i)\n",
        "  out_img=crop_imgs(img)\n",
        "  cv2.imwrite(output_path+i, out_img)\n"
      ],
      "metadata": {
        "id": "11IWRUPO0l8p"
      },
      "execution_count": null,
      "outputs": []
    },
    {
      "cell_type": "code",
      "source": [
        "folder_path='/content/drive/MyDrive/divided_datathon_dataset/val/no_tumor'\n",
        "output_path = '/content/drive/MyDrive/divided_datathon_dataset_pre/val/no_tumor/'\n",
        "\n",
        "image_files = [f for f in os.listdir(folder_path) if f.endswith(('.jpg'))]\n",
        "\n",
        "for i in image_files:\n",
        "  img=cv2.imread('/content/drive/MyDrive/divided_datathon_dataset/val/no_tumor/'+i)\n",
        "  out_img=crop_imgs(img)\n",
        "  cv2.imwrite(output_path+i, out_img)"
      ],
      "metadata": {
        "id": "oc5sv_qn0l8q"
      },
      "execution_count": null,
      "outputs": []
    },
    {
      "cell_type": "code",
      "source": [
        "folder_path='/content/drive/MyDrive/divided_datathon_dataset/test/no_tumor'\n",
        "output_path = '/content/drive/MyDrive/divided_datathon_dataset_pre/test/no_tumor/'\n",
        "\n",
        "image_files = [f for f in os.listdir(folder_path) if f.endswith(('.jpg'))]\n",
        "\n",
        "for i in image_files:\n",
        "  img=cv2.imread('/content/drive/MyDrive/divided_datathon_dataset/test/no_tumor/'+i)\n",
        "  out_img=crop_imgs(img)\n",
        "  cv2.imwrite(output_path+i, out_img)\n"
      ],
      "metadata": {
        "id": "9_e2hMew0iVU"
      },
      "execution_count": null,
      "outputs": []
    },
    {
      "cell_type": "code",
      "source": [
        "folder_path='/content/drive/MyDrive/divided_datathon_dataset/test/category1_tumor'\n",
        "output_path = '/content/drive/MyDrive/divided_datathon_dataset_pre/test/category1_tumor/'\n",
        "\n",
        "image_files = [f for f in os.listdir(folder_path) if f.endswith(('.jpg'))]\n",
        "\n",
        "for i in image_files:\n",
        "  img=cv2.imread('/content/drive/MyDrive/divided_datathon_dataset/test/category1_tumor/'+i)\n",
        "  out_img=crop_imgs(img)\n",
        "  cv2.imwrite(output_path+i, out_img)"
      ],
      "metadata": {
        "id": "4aZdh3Vb0iVV"
      },
      "execution_count": null,
      "outputs": []
    },
    {
      "cell_type": "code",
      "source": [
        "folder_path='/content/drive/MyDrive/divided_datathon_dataset/test/category2_tumor'\n",
        "output_path = '/content/drive/MyDrive/divided_datathon_dataset_pre/test/category2_tumor/'\n",
        "\n",
        "image_files = [f for f in os.listdir(folder_path) if f.endswith(('.jpg'))]\n",
        "\n",
        "for i in image_files:\n",
        "  img=cv2.imread('/content/drive/MyDrive/divided_datathon_dataset/test/category2_tumor/'+i)\n",
        "  out_img=crop_imgs(img)\n",
        "  cv2.imwrite(output_path+i, out_img)\n"
      ],
      "metadata": {
        "id": "QTjPsoAP0hwP"
      },
      "execution_count": null,
      "outputs": []
    },
    {
      "cell_type": "code",
      "source": [
        "folder_path='/content/drive/MyDrive/divided_datathon_dataset/test/category3_tumor'\n",
        "output_path = '/content/drive/MyDrive/divided_datathon_dataset_pre/test/category3_tumor/'\n",
        "\n",
        "image_files = [f for f in os.listdir(folder_path) if f.endswith(('.jpg'))]\n",
        "\n",
        "for i in image_files:\n",
        "  img=cv2.imread('/content/drive/MyDrive/divided_datathon_dataset/test/category3_tumor/'+i)\n",
        "  out_img=crop_imgs(img)\n",
        "  cv2.imwrite(output_path+i, out_img)"
      ],
      "metadata": {
        "id": "_OclmGoj0hwP"
      },
      "execution_count": null,
      "outputs": []
    }
  ]
}